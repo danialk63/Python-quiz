{
 "cells": [
  {
   "cell_type": "code",
   "execution_count": 31,
   "id": "3d54012f",
   "metadata": {},
   "outputs": [
    {
     "name": "stdout",
     "output_type": "stream",
     "text": [
      "Twinkle Twinkle little star \n",
      " \tHow I wonder what you are\n",
      " \t \tup above the world so high \n",
      " \t \tLike the diamond in th sky \n",
      "Twinkle Twinkle little star \n",
      " \tHow I wonder what you are\n"
     ]
    }
   ],
   "source": [
    "a= (\"Twinkle Twinkle little star \\n \\tHow I wonder what you are\\n \\t \\tup above the world so high \\n \\t \\tLike the diamond in th sky \\nTwinkle Twinkle little star \\n \\tHow I wonder what you are\");\n",
    "\n",
    "print(a)"
   ]
  },
  {
   "cell_type": "code",
   "execution_count": 34,
   "id": "c2854e41",
   "metadata": {},
   "outputs": [
    {
     "name": "stdout",
     "output_type": "stream",
     "text": [
      "3.9.7 (default, Sep 16 2021, 16:59:28) [MSC v.1916 64 bit (AMD64)]\n"
     ]
    }
   ],
   "source": [
    "import sys\n",
    "print(sys.version)"
   ]
  },
  {
   "cell_type": "code",
   "execution_count": 47,
   "id": "f67a77d7",
   "metadata": {},
   "outputs": [
    {
     "name": "stdout",
     "output_type": "stream",
     "text": [
      "2022-01-01 16:31:44.773018\n"
     ]
    }
   ],
   "source": [
    "import datetime\n",
    "current_time = datetime.datetime.now() \n",
    "print(current_time)\n"
   ]
  },
  {
   "cell_type": "code",
   "execution_count": 58,
   "id": "264fb61e",
   "metadata": {},
   "outputs": [
    {
     "name": "stdout",
     "output_type": "stream",
     "text": [
      "Input radius of the circle: 5\n",
      "The area of the corcle is:  78.53981633974483\n"
     ]
    }
   ],
   "source": [
    "from math import pi\n",
    "i = float(input (\"Input radius of the circle: \"));\n",
    "print(\"The area of the corcle is: \", str(pi*i**2)) \n"
   ]
  },
  {
   "cell_type": "code",
   "execution_count": 61,
   "id": "15dcb86a",
   "metadata": {},
   "outputs": [
    {
     "name": "stdout",
     "output_type": "stream",
     "text": [
      "Enter first name: Ahmad\n",
      "Enter last name: Khalid\n",
      "Reverse order is:  Khalid Ahmad\n"
     ]
    }
   ],
   "source": [
    "f = input(\"Enter first name: \");\n",
    "l = input(\"Enter last name: \");\n",
    "print(\"Reverse order is: \", l,f)"
   ]
  },
  {
   "cell_type": "code",
   "execution_count": 62,
   "id": "ae67c43d",
   "metadata": {},
   "outputs": [
    {
     "name": "stdout",
     "output_type": "stream",
     "text": [
      "Enter first number: 5\n",
      "Enter second number: 10\n",
      "15.0\n"
     ]
    }
   ],
   "source": [
    "f = float(input(\"Enter first number: \"));\n",
    "l = float(input(\"Enter second number: \"));\n",
    "sum = f+l;\n",
    "print(sum)\n"
   ]
  },
  {
   "cell_type": "code",
   "execution_count": null,
   "id": "721252a4",
   "metadata": {},
   "outputs": [],
   "source": []
  }
 ],
 "metadata": {
  "kernelspec": {
   "display_name": "Python 3 (ipykernel)",
   "language": "python",
   "name": "python3"
  },
  "language_info": {
   "codemirror_mode": {
    "name": "ipython",
    "version": 3
   },
   "file_extension": ".py",
   "mimetype": "text/x-python",
   "name": "python",
   "nbconvert_exporter": "python",
   "pygments_lexer": "ipython3",
   "version": "3.9.7"
  }
 },
 "nbformat": 4,
 "nbformat_minor": 5
}
